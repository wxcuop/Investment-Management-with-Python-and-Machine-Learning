{
 "cells": [
  {
   "cell_type": "code",
   "execution_count": null,
   "id": "b861c6e1",
   "metadata": {},
   "outputs": [
    {
     "name": "stdout",
     "output_type": "stream",
     "text": [
      "Annualized Return of Lo 20: 15.2 %\n"
     ]
    },
    {
     "name": "stderr",
     "output_type": "stream",
     "text": [
      "/tmp/ipykernel_7212/2378977841.py:3: UserWarning: Could not infer format, so each element will be parsed individually, falling back to `dateutil`. To ensure parsing is consistent and as-expected, please specify a format.\n",
      "  me_m = pd.read_csv(\"data/Portfolios_Formed_on_ME_monthly_EW.csv\",header=0, index_col=0, parse_dates=True, na_values=\"-99.99\")\n"
     ]
    }
   ],
   "source": [
    "import pandas as pd\n",
    "\n",
    "me_m = pd.read_csv(\"data/Portfolios_Formed_on_ME_monthly_EW.csv\",header=0, index_col=0, parse_dates=True, na_values=\"-99.99\")\n",
    "me_m.index = pd.to_datetime(me_m.index, format=\"%Y%m\")\n",
    "\n",
    "lo20 = me_m[\"Lo 20\"] / 100  # Convert percentage to decimal\n",
    "if not isinstance(lo20.index, pd.PeriodIndex):\n",
    "\tlo20.index = pd.to_datetime(lo20.index, format=\"%Y%m\")\n",
    "\tlo20.index = lo20.index.to_period('M') # type: ignore\n",
    "n_months = lo20.shape[0]\n",
    "total_return = (1 + lo20).prod()\n",
    "annualized_return = total_return ** (12 / n_months) - 1\n",
    "print(\"Annualized Return of Lo 20:\", round(annualized_return*100,2), \"%\")"
   ]
  },
  {
   "cell_type": "code",
   "execution_count": 2,
   "id": "c773f422",
   "metadata": {},
   "outputs": [
    {
     "name": "stdout",
     "output_type": "stream",
     "text": [
      "Annualized Volatility of Lo 20: 33.67\n"
     ]
    }
   ],
   "source": [
    "import numpy as np\n",
    "\n",
    "# Calculate monthly standard deviation\n",
    "monthly_vol = lo20.std()\n",
    "\n",
    "# Annualize volatility\n",
    "annualized_vol = monthly_vol * np.sqrt(12)\n",
    "print(\"Annualized Volatility of Lo 20:\", round(annualized_vol*100, 2))"
   ]
  },
  {
   "cell_type": "code",
   "execution_count": null,
   "id": "7c65cb22",
   "metadata": {},
   "outputs": [
    {
     "name": "stdout",
     "output_type": "stream",
     "text": [
      "Annualized Return of Hi 20: 9.85\n"
     ]
    }
   ],
   "source": [
    "hi20 = me_m[\"Hi 20\"] / 100  # Convert percentage to decimal\n",
    "hi20.index = pd.to_datetime(hi20.index, format=\"%Y%m\")\n",
    "hi20.index = hi20.index.to_period('M') # type: ignore\n",
    "\n",
    "n_months = hi20.shape[0]\n",
    "total_return = (1 + hi20).prod()\n",
    "annualized_return = total_return ** (12 / n_months) - 1\n",
    "print(\"Annualized Return of Hi 20:\", round(annualized_return*100,2))"
   ]
  },
  {
   "cell_type": "code",
   "execution_count": 4,
   "id": "3036fdfb",
   "metadata": {},
   "outputs": [
    {
     "name": "stdout",
     "output_type": "stream",
     "text": [
      "Annualized Volatility of Hi 20 (in %): 19.51\n"
     ]
    }
   ],
   "source": [
    "monthly_vol_hi20 = hi20.std()\n",
    "\n",
    "# Annualize volatility\n",
    "annualized_vol_hi20 = monthly_vol_hi20 * np.sqrt(12)\n",
    "\n",
    "# Convert to percentage\n",
    "print(\"Annualized Volatility of Hi 20 (in %):\", round(annualized_vol_hi20 * 100, 2))\n"
   ]
  },
  {
   "cell_type": "code",
   "execution_count": 5,
   "id": "439cc5e8",
   "metadata": {},
   "outputs": [
    {
     "name": "stdout",
     "output_type": "stream",
     "text": [
      "Annualized Return of Lo 20 (1999-2015, %): 11.44\n"
     ]
    }
   ],
   "source": [
    "# Filter for 1999-2015\n",
    "lo20_1999_2015 = lo20[(lo20.index >= '1999-01') & (lo20.index <= '2015-12')]\n",
    "\n",
    "n_months = lo20_1999_2015.shape[0]\n",
    "total_return = (1 + lo20_1999_2015).prod()\n",
    "annualized_return = total_return ** (12 / n_months) - 1\n",
    "\n",
    "print(\"Annualized Return of Lo 20 (1999-2015, %):\", round(annualized_return * 100, 2))"
   ]
  },
  {
   "cell_type": "code",
   "execution_count": 6,
   "id": "67f3c532",
   "metadata": {},
   "outputs": [
    {
     "name": "stdout",
     "output_type": "stream",
     "text": [
      "Annualized Volatility of Lo 20 (1999-2015, %): 22.89\n"
     ]
    }
   ],
   "source": [
    "# Calculate monthly standard deviation for 1999-2015\n",
    "monthly_vol_lo20_1999_2015 = lo20_1999_2015.std()\n",
    "\n",
    "# Annualize volatility\n",
    "annualized_vol_lo20_1999_2015 = monthly_vol_lo20_1999_2015 * np.sqrt(12)\n",
    "\n",
    "# Convert to percentage\n",
    "print(\"Annualized Volatility of Lo 20 (1999-2015, %):\", round(annualized_vol_lo20_1999_2015 * 100, 2))\n"
   ]
  },
  {
   "cell_type": "code",
   "execution_count": 7,
   "id": "5c0b5d4f",
   "metadata": {},
   "outputs": [
    {
     "name": "stdout",
     "output_type": "stream",
     "text": [
      "Annualized Return of Hi 20 (1999-2015, %): 6.29\n"
     ]
    }
   ],
   "source": [
    "# Filter for 1999-2015\n",
    "hi20_1999_2015 = hi20[(hi20.index >= '1999-01') & (hi20.index <= '2015-12')]\n",
    "\n",
    "n_months = hi20_1999_2015.shape[0]\n",
    "total_return = (1 + hi20_1999_2015).prod()\n",
    "annualized_return = total_return ** (12 / n_months) - 1\n",
    "\n",
    "print(\"Annualized Return of Hi 20 (1999-2015, %):\", round(annualized_return * 100, 2))\n"
   ]
  },
  {
   "cell_type": "code",
   "execution_count": 8,
   "id": "620c8df9",
   "metadata": {},
   "outputs": [
    {
     "name": "stdout",
     "output_type": "stream",
     "text": [
      "Annualized Volatility of Hi 20 (1999-2015, %): 17.27\n"
     ]
    }
   ],
   "source": [
    "# Calculate monthly standard deviation for Hi 20 (1999-2015)\n",
    "monthly_vol_hi20_1999_2015 = hi20_1999_2015.std()\n",
    "\n",
    "# Annualize volatility\n",
    "annualized_vol_hi20_1999_2015 = monthly_vol_hi20_1999_2015 * np.sqrt(12)\n",
    "\n",
    "# Convert to percentage\n",
    "print(\"Annualized Volatility of Hi 20 (1999-2015, %):\", round(annualized_vol_hi20_1999_2015 * 100, 2))\n"
   ]
  },
  {
   "cell_type": "code",
   "execution_count": 9,
   "id": "fc66b8ad",
   "metadata": {},
   "outputs": [
    {
     "name": "stdout",
     "output_type": "stream",
     "text": [
      "Max Drawdown of Lo 20 (1999-2015, %): 62.48\n"
     ]
    }
   ],
   "source": [
    "# Calculate cumulative returns\n",
    "cum_returns = (1 + lo20_1999_2015).cumprod()\n",
    "\n",
    "# Calculate running maximum\n",
    "running_max = cum_returns.cummax()\n",
    "\n",
    "# Calculate drawdown\n",
    "drawdown = (cum_returns / running_max) - 1\n",
    "\n",
    "# Max drawdown (as a positive percentage)\n",
    "max_drawdown = drawdown.min()\n",
    "print(\"Max Drawdown of Lo 20 (1999-2015, %):\", round(abs(max_drawdown) * 100, 2))\n"
   ]
  },
  {
   "cell_type": "code",
   "execution_count": 10,
   "id": "47aeb7f7",
   "metadata": {},
   "outputs": [
    {
     "name": "stdout",
     "output_type": "stream",
     "text": [
      "Month of Max Drawdown for Lo 20 (1999-2015): 2009-02\n"
     ]
    }
   ],
   "source": [
    "# Find the month of the maximum drawdown\n",
    "max_dd_month = drawdown.idxmin()\n",
    "print(\"Month of Max Drawdown for Lo 20 (1999-2015):\", max_dd_month)\n"
   ]
  },
  {
   "cell_type": "code",
   "execution_count": 11,
   "id": "56baafd8",
   "metadata": {},
   "outputs": [
    {
     "name": "stdout",
     "output_type": "stream",
     "text": [
      "Max Drawdown of Hi 20 (1999-2015, %): 55.27\n"
     ]
    }
   ],
   "source": [
    "# Calculate cumulative returns for Hi 20\n",
    "cum_returns_hi20 = (1 + hi20_1999_2015).cumprod()\n",
    "\n",
    "# Calculate running maximum\n",
    "running_max_hi20 = cum_returns_hi20.cummax()\n",
    "\n",
    "# Calculate drawdown\n",
    "drawdown_hi20 = (cum_returns_hi20 / running_max_hi20) - 1\n",
    "\n",
    "# Max drawdown (as a positive percentage)\n",
    "max_drawdown_hi20 = drawdown_hi20.min()\n",
    "print(\"Max Drawdown of Hi 20 (1999-2015, %):\", round(abs(max_drawdown_hi20) * 100, 2))\n"
   ]
  },
  {
   "cell_type": "code",
   "execution_count": 12,
   "id": "1ef25cdd",
   "metadata": {},
   "outputs": [
    {
     "name": "stdout",
     "output_type": "stream",
     "text": [
      "Month of Max Drawdown for Hi 20 (1999-2015): 2009-02\n"
     ]
    }
   ],
   "source": [
    "# Find the month of the maximum drawdown for Hi 20\n",
    "max_dd_month_hi20 = drawdown_hi20.idxmin()\n",
    "print(\"Month of Max Drawdown for Hi 20 (1999-2015):\", max_dd_month_hi20)\n"
   ]
  },
  {
   "cell_type": "code",
   "execution_count": 13,
   "id": "f9bad822",
   "metadata": {},
   "outputs": [
    {
     "name": "stdout",
     "output_type": "stream",
     "text": [
      "Hedge Fund Index with highest semideviation (2009-2018): Short Selling\n",
      "Semideviation: 0.02138309317834709\n"
     ]
    },
    {
     "name": "stderr",
     "output_type": "stream",
     "text": [
      "/tmp/ipykernel_7212/343426490.py:5: UserWarning: Parsing dates in %d/%m/%Y format when dayfirst=False (the default) was specified. Pass `dayfirst=True` or specify a format to silence this warning.\n",
      "  edhec = pd.read_csv(\n"
     ]
    }
   ],
   "source": [
    "import pandas as pd\n",
    "import numpy as np\n",
    "\n",
    "# Load the data\n",
    "edhec = pd.read_csv(\n",
    "    \"data/edhec-hedgefundindices.csv\",\n",
    "    index_col=0,\n",
    "    parse_dates=True\n",
    ")\n",
    "\n",
    "# Convert returns from percentage to decimal\n",
    "edhec = edhec / 100\n",
    "\n",
    "# Filter for 2009-2018\n",
    "edhec_2009_2018 = edhec[(edhec.index >= \"2009-01-01\") & (edhec.index <= \"2018-12-31\")]\n",
    "\n",
    "# Calculate semideviation for each column\n",
    "semidevs = edhec_2009_2018.apply(lambda x: x[x < 0].std(), axis=0)\n",
    "\n",
    "# Find the index with the highest semideviation\n",
    "max_semidev_index = semidevs.idxmax()\n",
    "print(\"Hedge Fund Index with highest semideviation (2009-2018):\", max_semidev_index)\n",
    "print(\"Semideviation:\", semidevs[max_semidev_index])"
   ]
  },
  {
   "cell_type": "code",
   "execution_count": 14,
   "id": "d730bc43",
   "metadata": {},
   "outputs": [
    {
     "name": "stdout",
     "output_type": "stream",
     "text": [
      "Hedge Fund Index with lowest semideviation (2009-2018): Fixed Income Arbitrage\n",
      "Semideviation: 0.003395172112852208\n"
     ]
    }
   ],
   "source": [
    "import pandas as pd\n",
    "\n",
    "# Load the data\n",
    "edhec = pd.read_csv(\n",
    "    \"data/edhec-hedgefundindices.csv\",\n",
    "    index_col=0,\n",
    "    parse_dates=True,\n",
    "    dayfirst=True\n",
    ")\n",
    "\n",
    "# Convert returns from percentage to decimal\n",
    "edhec = edhec / 100\n",
    "\n",
    "# Filter for 2009-2018\n",
    "edhec_2009_2018 = edhec[(edhec.index >= \"2009-01-01\") & (edhec.index <= \"2018-12-31\")]\n",
    "\n",
    "# Calculate semideviation for each column\n",
    "semidevs = edhec_2009_2018.apply(lambda x: x[x < 0].std(), axis=0)\n",
    "\n",
    "# Find the index with the lowest semideviation\n",
    "min_semidev_index = semidevs.idxmin()\n",
    "print(\"Hedge Fund Index with lowest semideviation (2009-2018):\", min_semidev_index)\n",
    "print(\"Semideviation:\", semidevs[min_semidev_index])"
   ]
  },
  {
   "cell_type": "code",
   "execution_count": 15,
   "id": "46c33a15",
   "metadata": {},
   "outputs": [
    {
     "name": "stdout",
     "output_type": "stream",
     "text": [
      "Hedge Fund Index with most negative skewness (2009-2018): Equity Market Neutral\n",
      "Skewness: -0.9078106090203248\n"
     ]
    }
   ],
   "source": [
    "import pandas as pd\n",
    "\n",
    "# Load the data\n",
    "edhec = pd.read_csv(\n",
    "    \"data/edhec-hedgefundindices.csv\",\n",
    "    index_col=0,\n",
    "    parse_dates=True,\n",
    "    dayfirst=True\n",
    ")\n",
    "\n",
    "# Convert returns from percentage to decimal\n",
    "edhec = edhec / 100\n",
    "\n",
    "# Filter for 2009-2018\n",
    "edhec_2009_2018 = edhec[(edhec.index >= \"2009-01-01\") & (edhec.index <= \"2018-12-31\")]\n",
    "\n",
    "# Calculate skewness for each column\n",
    "skews = edhec_2009_2018.skew()\n",
    "\n",
    "# Find the index with the most negative skewness\n",
    "most_neg_skew_index = skews.idxmin()\n",
    "print(\"Hedge Fund Index with most negative skewness (2009-2018):\", most_neg_skew_index)\n",
    "print(\"Skewness:\", skews[most_neg_skew_index])"
   ]
  },
  {
   "cell_type": "code",
   "execution_count": 16,
   "id": "1924fffe",
   "metadata": {},
   "outputs": [
    {
     "name": "stdout",
     "output_type": "stream",
     "text": [
      "Hedge Fund Index with highest kurtosis (2000-2018): Fixed Income Arbitrage\n",
      "Kurtosis: 31.085538637898274\n"
     ]
    }
   ],
   "source": [
    "import pandas as pd\n",
    "\n",
    "# Load the data\n",
    "edhec = pd.read_csv(\n",
    "    \"data/edhec-hedgefundindices.csv\",\n",
    "    index_col=0,\n",
    "    parse_dates=True,\n",
    "    dayfirst=True\n",
    ")\n",
    "\n",
    "# Convert returns from percentage to decimal\n",
    "edhec = edhec / 100\n",
    "\n",
    "# Filter for 2000-2018\n",
    "edhec_2000_2018 = edhec[(edhec.index >= \"2000-01-01\") & (edhec.index <= \"2018-12-31\")]\n",
    "\n",
    "# Calculate kurtosis for each column\n",
    "kurts = edhec_2000_2018.kurtosis()\n",
    "\n",
    "# Find the index with the highest kurtosis\n",
    "max_kurt_index = kurts.idxmax()\n",
    "print(\"Hedge Fund Index with highest kurtosis (2000-2018):\", max_kurt_index)\n",
    "print(\"Kurtosis:\", kurts[max_kurt_index])"
   ]
  }
 ],
 "metadata": {
  "kernelspec": {
   "display_name": "Python 3",
   "language": "python",
   "name": "python3"
  },
  "language_info": {
   "codemirror_mode": {
    "name": "ipython",
    "version": 3
   },
   "file_extension": ".py",
   "mimetype": "text/x-python",
   "name": "python",
   "nbconvert_exporter": "python",
   "pygments_lexer": "ipython3",
   "version": "3.12.1"
  }
 },
 "nbformat": 4,
 "nbformat_minor": 5
}
