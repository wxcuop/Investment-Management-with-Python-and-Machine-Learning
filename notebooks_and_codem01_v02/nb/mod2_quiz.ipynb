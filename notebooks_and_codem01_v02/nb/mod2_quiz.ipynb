{
 "cells": [
  {
   "cell_type": "code",
   "execution_count": 2,
   "id": "024da3d6",
   "metadata": {},
   "outputs": [
    {
     "name": "stdout",
     "output_type": "stream",
     "text": [
      "Monthly Parametric Gaussian VaR at 1% (Distressed Securities): 3.14\n"
     ]
    }
   ],
   "source": [
    "import pandas as pd\n",
    "import edhec_risk_kit_111 as erk\n",
    "\n",
    "# Load the data\n",
    "edhec = pd.read_csv(\n",
    "    \"data/edhec-hedgefundindices.csv\",\n",
    "    index_col=0,\n",
    "    parse_dates=True,\n",
    "    dayfirst=True\n",
    ")\n",
    "edhec = edhec / 100\n",
    "\n",
    "# Filter for 2000 onwards\n",
    "rets = edhec.loc[edhec.index >= \"2000-01-01\", \"Distressed Securities\"]\n",
    "\n",
    "# Parametric Gaussian VaR at 1% (as a positive number)\n",
    "var_1pct = erk.var_gaussian(rets, level=1, modified=False)\n",
    "print(f\"Monthly Parametric Gaussian VaR at 1% (Distressed Securities): {abs(var_1pct) * 100:.2f}\")"
   ]
  },
  {
   "cell_type": "code",
   "execution_count": 3,
   "id": "08ea93eb",
   "metadata": {},
   "outputs": [
    {
     "name": "stdout",
     "output_type": "stream",
     "text": [
      "Cornish-Fisher 1% VaR (Distressed Securities): 4.97\n"
     ]
    }
   ],
   "source": [
    "# Cornish-Fisher VaR at 1% (as a positive number)\n",
    "var_cf_1pct = erk.var_gaussian(rets, level=1, modified=True)\n",
    "print(f\"Cornish-Fisher 1% VaR (Distressed Securities): {abs(var_cf_1pct) * 100:.2f}\")"
   ]
  },
  {
   "cell_type": "code",
   "execution_count": 4,
   "id": "5126b6c2",
   "metadata": {},
   "outputs": [
    {
     "name": "stdout",
     "output_type": "stream",
     "text": [
      "Historic 1% VaR (Distressed Securities): 4.26\n"
     ]
    }
   ],
   "source": [
    "# Historic VaR at 1% (as a positive number)\n",
    "hist_var_1pct = -rets.quantile(0.01)\n",
    "\n",
    "# Convert to percent\n",
    "print(\"Historic 1% VaR (Distressed Securities):\", round(hist_var_1pct * 100, 2))"
   ]
  },
  {
   "cell_type": "code",
   "execution_count": 5,
   "id": "2cf6f34f",
   "metadata": {},
   "outputs": [
    {
     "name": "stdout",
     "output_type": "stream",
     "text": [
      "Weight of Steel in EW Portfolio (%): 25.0\n"
     ]
    }
   ],
   "source": [
    "industries = [\"Books\", \"Steel\", \"Oil\", \"Mines\"]\n",
    "n = len(industries)\n",
    "w_ew = 1 / n\n",
    "print(\"Weight of Steel in EW Portfolio (%):\", round(w_ew * 100, 1))"
   ]
  },
  {
   "cell_type": "code",
   "execution_count": 6,
   "id": "18e5f0b8",
   "metadata": {},
   "outputs": [
    {
     "name": "stdout",
     "output_type": "stream",
     "text": [
      "Largest MSR Portfolio Weight (%): 100.0\n"
     ]
    }
   ],
   "source": [
    "import edhec_risk_kit_111 as erk\n",
    "\n",
    "# Load industry returns\n",
    "ind = erk.get_ind_returns()\n",
    "\n",
    "# Filter for 2013-2017\n",
    "ind_2013_2017 = ind[\"2013\":\"2017\"]\n",
    "\n",
    "# Select relevant industries\n",
    "industries = [\"Books\", \"Steel\", \"Oil\", \"Mines\"]\n",
    "rets = ind_2013_2017[industries]\n",
    "\n",
    "# Estimate expected returns and covariance\n",
    "er = erk.annualize_rets(rets, 12)\n",
    "cov = rets.cov()\n",
    "\n",
    "# Calculate MSR weights\n",
    "rf = 0.10\n",
    "w_msr = erk.msr(rf, er, cov)\n",
    "\n",
    "# Find the largest weight\n",
    "largest_weight = w_msr.max()\n",
    "print(\"Largest MSR Portfolio Weight (%):\", round(largest_weight * 100, 1))"
   ]
  },
  {
   "cell_type": "code",
   "execution_count": 7,
   "id": "95ad4b6a",
   "metadata": {},
   "outputs": [
    {
     "name": "stdout",
     "output_type": "stream",
     "text": [
      "Industry with largest MSR Portfolio Weight: Steel\n"
     ]
    }
   ],
   "source": [
    "# Find the industry with the largest weight\n",
    "largest_weight_industry = industries[w_msr.argmax()]\n",
    "print(\"Industry with largest MSR Portfolio Weight:\", largest_weight_industry)"
   ]
  },
  {
   "cell_type": "code",
   "execution_count": 8,
   "id": "4db0ef04",
   "metadata": {},
   "outputs": [
    {
     "name": "stdout",
     "output_type": "stream",
     "text": [
      "Number of non-zero weights in MSR portfolio: 3\n"
     ]
    }
   ],
   "source": [
    "# Count non-zero weights in MSR portfolio\n",
    "non_zero_count = (w_msr != 0).sum()\n",
    "print(\"Number of non-zero weights in MSR portfolio:\", non_zero_count)"
   ]
  },
  {
   "cell_type": "code",
   "execution_count": 9,
   "id": "0e792a63",
   "metadata": {},
   "outputs": [
    {
     "name": "stdout",
     "output_type": "stream",
     "text": [
      "Largest GMV Portfolio Weight (%): 47.7\n"
     ]
    }
   ],
   "source": [
    "# Calculate GMV weights\n",
    "w_gmv = erk.gmv(cov)\n",
    "\n",
    "# Find the largest weight\n",
    "largest_gmv_weight = w_gmv.max()\n",
    "print(\"Largest GMV Portfolio Weight (%):\", round(largest_gmv_weight * 100, 2))"
   ]
  },
  {
   "cell_type": "code",
   "execution_count": 10,
   "id": "d615e59a",
   "metadata": {},
   "outputs": [
    {
     "name": "stdout",
     "output_type": "stream",
     "text": [
      "Industry with largest GMV Portfolio Weight: Books\n"
     ]
    }
   ],
   "source": [
    "# Find the industry with the largest GMV weight\n",
    "largest_gmv_industry = industries[w_gmv.argmax()]\n",
    "print(\"Industry with largest GMV Portfolio Weight:\", largest_gmv_industry)"
   ]
  },
  {
   "cell_type": "code",
   "execution_count": 11,
   "id": "a976b0e9",
   "metadata": {},
   "outputs": [
    {
     "name": "stdout",
     "output_type": "stream",
     "text": [
      "Number of non-zero weights in GMV portfolio: 4\n"
     ]
    }
   ],
   "source": [
    "# Count non-zero weights in GMV portfolio\n",
    "non_zero_gmv = (w_gmv != 0).sum()\n",
    "print(\"Number of non-zero weights in GMV portfolio:\", non_zero_gmv)"
   ]
  },
  {
   "cell_type": "code",
   "execution_count": 12,
   "id": "44d1864e",
   "metadata": {},
   "outputs": [
    {
     "name": "stdout",
     "output_type": "stream",
     "text": [
      "Annualized Volatility of MSR Portfolio (2018, %): 21.98\n"
     ]
    }
   ],
   "source": [
    "# Define the list of industries\n",
    "l = [\"Books\", \"Steel\", \"Oil\", \"Mines\"]\n",
    "\n",
    "# Get 2018 returns and covariance matrix\n",
    "cov_2018 = ind.loc[\"2018\", l].cov()\n",
    "\n",
    "# Use MSR weights from previous calculation (w_msr)\n",
    "# Portfolio volatility (annualized)\n",
    "def portfolio_vol(weights, covmat):\n",
    "    return (weights.T @ covmat @ weights) ** 0.5\n",
    "\n",
    "vol_msr_2018 = portfolio_vol(w_msr, cov_2018) * (12 ** 0.5)\n",
    "print(\"Annualized Volatility of MSR Portfolio (2018, %):\", round(vol_msr_2018 * 100, 2))"
   ]
  },
  {
   "cell_type": "code",
   "execution_count": 13,
   "id": "bbac462b",
   "metadata": {},
   "outputs": [
    {
     "name": "stdout",
     "output_type": "stream",
     "text": [
      "Annualized Volatility of GMV Portfolio (2018, %): 18.97\n"
     ]
    }
   ],
   "source": [
    "# Portfolio volatility (annualized) for GMV portfolio\n",
    "vol_gmv_2018 = portfolio_vol(w_gmv, cov_2018) * (12 ** 0.5)\n",
    "print(\"Annualized Volatility of GMV Portfolio (2018, %):\", round(vol_gmv_2018 * 100, 2))"
   ]
  }
 ],
 "metadata": {
  "kernelspec": {
   "display_name": "Python 3",
   "language": "python",
   "name": "python3"
  },
  "language_info": {
   "codemirror_mode": {
    "name": "ipython",
    "version": 3
   },
   "file_extension": ".py",
   "mimetype": "text/x-python",
   "name": "python",
   "nbconvert_exporter": "python",
   "pygments_lexer": "ipython3",
   "version": "3.12.1"
  }
 },
 "nbformat": 4,
 "nbformat_minor": 5
}
